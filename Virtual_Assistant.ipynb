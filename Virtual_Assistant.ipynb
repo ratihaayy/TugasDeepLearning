{
  "cells": [
    {
      "cell_type": "markdown",
      "metadata": {
        "id": "view-in-github",
        "colab_type": "text"
      },
      "source": [
        "<a href=\"https://colab.research.google.com/github/ratihaayy/TugasDeepLearning/blob/main/Virtual_Assistant.ipynb\" target=\"_parent\"><img src=\"https://colab.research.google.com/assets/colab-badge.svg\" alt=\"Open In Colab\"/></a>"
      ]
    },
    {
      "cell_type": "code",
      "source": [
        "!pip install SpeechRecognition"
      ],
      "metadata": {
        "colab": {
          "base_uri": "https://localhost:8080/"
        },
        "id": "nTpabz3ihaYK",
        "outputId": "7f6320d9-4a81-44c6-fe3f-8f72fc32e3d7"
      },
      "execution_count": null,
      "outputs": [
        {
          "output_type": "stream",
          "name": "stdout",
          "text": [
            "Collecting SpeechRecognition\n",
            "  Downloading SpeechRecognition-3.14.1-py3-none-any.whl.metadata (31 kB)\n",
            "Requirement already satisfied: typing-extensions in /usr/local/lib/python3.11/dist-packages (from SpeechRecognition) (4.12.2)\n",
            "Downloading SpeechRecognition-3.14.1-py3-none-any.whl (32.9 MB)\n",
            "\u001b[2K   \u001b[90m━━━━━━━━━━━━━━━━━━━━━━━━━━━━━━━━━━━━━━━━\u001b[0m \u001b[32m32.9/32.9 MB\u001b[0m \u001b[31m13.7 MB/s\u001b[0m eta \u001b[36m0:00:00\u001b[0m\n",
            "\u001b[?25hInstalling collected packages: SpeechRecognition\n",
            "Successfully installed SpeechRecognition-3.14.1\n"
          ]
        }
      ]
    },
    {
      "cell_type": "code",
      "source": [
        "!pip install pyttsx3"
      ],
      "metadata": {
        "colab": {
          "base_uri": "https://localhost:8080/"
        },
        "id": "_vALvcchhd70",
        "outputId": "cd904d93-3c8e-4b5d-ad16-70eaa2245537"
      },
      "execution_count": null,
      "outputs": [
        {
          "output_type": "stream",
          "name": "stdout",
          "text": [
            "Collecting pyttsx3\n",
            "  Downloading pyttsx3-2.98-py3-none-any.whl.metadata (3.8 kB)\n",
            "Downloading pyttsx3-2.98-py3-none-any.whl (34 kB)\n",
            "Installing collected packages: pyttsx3\n",
            "Successfully installed pyttsx3-2.98\n"
          ]
        }
      ]
    },
    {
      "cell_type": "code",
      "source": [
        "!apt-get update && apt-get install espeak -y"
      ],
      "metadata": {
        "colab": {
          "base_uri": "https://localhost:8080/"
        },
        "id": "aQGLJXKfhgkX",
        "outputId": "1ef2b5a6-fe27-4cd1-c253-09f3a038fbac"
      },
      "execution_count": null,
      "outputs": [
        {
          "output_type": "stream",
          "name": "stdout",
          "text": [
            "\r0% [Working]\r            \rHit:1 http://archive.ubuntu.com/ubuntu jammy InRelease\n",
            "\r0% [Connecting to security.ubuntu.com (185.125.190.83)] [Connected to cloud.r-project.org (3.171.85.\r                                                                                                    \rGet:2 http://archive.ubuntu.com/ubuntu jammy-updates InRelease [128 kB]\n",
            "\r                                                                                                    \rGet:3 http://archive.ubuntu.com/ubuntu jammy-backports InRelease [127 kB]\n",
            "\r                                                                                                    \rGet:4 https://cloud.r-project.org/bin/linux/ubuntu jammy-cran40/ InRelease [3,632 B]\n",
            "\r0% [Waiting for headers] [Connected to r2u.stat.illinois.edu (192.17.190.167)] [Waiting for headers]\r                                                                                                    \rGet:5 http://security.ubuntu.com/ubuntu jammy-security InRelease [129 kB]\n",
            "\r0% [5 InRelease 14.2 kB/129 kB 11%] [Waiting for headers] [Waiting for headers] [Connected to ppa.la\r                                                                                                    \rGet:6 https://developer.download.nvidia.com/compute/cuda/repos/ubuntu2204/x86_64  InRelease [1,581 B]\n",
            "Get:7 https://r2u.stat.illinois.edu/ubuntu jammy InRelease [6,555 B]\n",
            "Hit:8 https://ppa.launchpadcontent.net/deadsnakes/ppa/ubuntu jammy InRelease\n",
            "Get:9 https://ppa.launchpadcontent.net/graphics-drivers/ppa/ubuntu jammy InRelease [24.3 kB]\n",
            "Get:10 http://archive.ubuntu.com/ubuntu jammy-updates/universe amd64 Packages [1,523 kB]\n",
            "Hit:11 https://ppa.launchpadcontent.net/ubuntugis/ppa/ubuntu jammy InRelease\n",
            "Get:12 http://archive.ubuntu.com/ubuntu jammy-updates/main amd64 Packages [2,907 kB]\n",
            "Get:13 https://cloud.r-project.org/bin/linux/ubuntu jammy-cran40/ Packages [66.7 kB]\n",
            "Get:14 https://developer.download.nvidia.com/compute/cuda/repos/ubuntu2204/x86_64  Packages [1,309 kB]\n",
            "Get:15 https://r2u.stat.illinois.edu/ubuntu jammy/main amd64 Packages [2,653 kB]\n",
            "Get:16 https://r2u.stat.illinois.edu/ubuntu jammy/main all Packages [8,663 kB]\n",
            "Get:17 http://security.ubuntu.com/ubuntu jammy-security/universe amd64 Packages [1,230 kB]\n",
            "Get:18 http://security.ubuntu.com/ubuntu jammy-security/main amd64 Packages [2,606 kB]\n",
            "Fetched 21.4 MB in 4s (5,561 kB/s)\n",
            "Reading package lists... Done\n",
            "W: Skipping acquire of configured file 'main/source/Sources' as repository 'https://r2u.stat.illinois.edu/ubuntu jammy InRelease' does not seem to provide it (sources.list entry misspelt?)\n",
            "Reading package lists... Done\n",
            "Building dependency tree... Done\n",
            "Reading state information... Done\n",
            "The following additional packages will be installed:\n",
            "  espeak-data libespeak1 libportaudio2 libsonic0\n",
            "The following NEW packages will be installed:\n",
            "  espeak espeak-data libespeak1 libportaudio2 libsonic0\n",
            "0 upgraded, 5 newly installed, 0 to remove and 25 not upgraded.\n",
            "Need to get 1,382 kB of archives.\n",
            "After this operation, 3,178 kB of additional disk space will be used.\n",
            "Get:1 http://archive.ubuntu.com/ubuntu jammy/universe amd64 libportaudio2 amd64 19.6.0-1.1 [65.3 kB]\n",
            "Get:2 http://archive.ubuntu.com/ubuntu jammy/main amd64 libsonic0 amd64 0.2.0-11build1 [10.3 kB]\n",
            "Get:3 http://archive.ubuntu.com/ubuntu jammy/universe amd64 espeak-data amd64 1.48.15+dfsg-3 [1,085 kB]\n",
            "Get:4 http://archive.ubuntu.com/ubuntu jammy/universe amd64 libespeak1 amd64 1.48.15+dfsg-3 [156 kB]\n",
            "Get:5 http://archive.ubuntu.com/ubuntu jammy/universe amd64 espeak amd64 1.48.15+dfsg-3 [64.2 kB]\n",
            "Fetched 1,382 kB in 0s (8,994 kB/s)\n",
            "Selecting previously unselected package libportaudio2:amd64.\n",
            "(Reading database ... 124926 files and directories currently installed.)\n",
            "Preparing to unpack .../libportaudio2_19.6.0-1.1_amd64.deb ...\n",
            "Unpacking libportaudio2:amd64 (19.6.0-1.1) ...\n",
            "Selecting previously unselected package libsonic0:amd64.\n",
            "Preparing to unpack .../libsonic0_0.2.0-11build1_amd64.deb ...\n",
            "Unpacking libsonic0:amd64 (0.2.0-11build1) ...\n",
            "Selecting previously unselected package espeak-data:amd64.\n",
            "Preparing to unpack .../espeak-data_1.48.15+dfsg-3_amd64.deb ...\n",
            "Unpacking espeak-data:amd64 (1.48.15+dfsg-3) ...\n",
            "Selecting previously unselected package libespeak1:amd64.\n",
            "Preparing to unpack .../libespeak1_1.48.15+dfsg-3_amd64.deb ...\n",
            "Unpacking libespeak1:amd64 (1.48.15+dfsg-3) ...\n",
            "Selecting previously unselected package espeak.\n",
            "Preparing to unpack .../espeak_1.48.15+dfsg-3_amd64.deb ...\n",
            "Unpacking espeak (1.48.15+dfsg-3) ...\n",
            "Setting up libportaudio2:amd64 (19.6.0-1.1) ...\n",
            "Setting up libsonic0:amd64 (0.2.0-11build1) ...\n",
            "Setting up espeak-data:amd64 (1.48.15+dfsg-3) ...\n",
            "Setting up libespeak1:amd64 (1.48.15+dfsg-3) ...\n",
            "Setting up espeak (1.48.15+dfsg-3) ...\n",
            "Processing triggers for man-db (2.10.2-1) ...\n",
            "Processing triggers for libc-bin (2.35-0ubuntu3.8) ...\n",
            "/sbin/ldconfig.real: /usr/local/lib/libtbbbind.so.3 is not a symbolic link\n",
            "\n",
            "/sbin/ldconfig.real: /usr/local/lib/libtcm_debug.so.1 is not a symbolic link\n",
            "\n",
            "/sbin/ldconfig.real: /usr/local/lib/libur_adapter_opencl.so.0 is not a symbolic link\n",
            "\n",
            "/sbin/ldconfig.real: /usr/local/lib/libumf.so.0 is not a symbolic link\n",
            "\n",
            "/sbin/ldconfig.real: /usr/local/lib/libur_loader.so.0 is not a symbolic link\n",
            "\n",
            "/sbin/ldconfig.real: /usr/local/lib/libhwloc.so.15 is not a symbolic link\n",
            "\n",
            "/sbin/ldconfig.real: /usr/local/lib/libtbbmalloc_proxy.so.2 is not a symbolic link\n",
            "\n",
            "/sbin/ldconfig.real: /usr/local/lib/libtcm.so.1 is not a symbolic link\n",
            "\n",
            "/sbin/ldconfig.real: /usr/local/lib/libtbbbind_2_5.so.3 is not a symbolic link\n",
            "\n",
            "/sbin/ldconfig.real: /usr/local/lib/libtbbbind_2_0.so.3 is not a symbolic link\n",
            "\n",
            "/sbin/ldconfig.real: /usr/local/lib/libtbb.so.12 is not a symbolic link\n",
            "\n",
            "/sbin/ldconfig.real: /usr/local/lib/libur_adapter_level_zero.so.0 is not a symbolic link\n",
            "\n",
            "/sbin/ldconfig.real: /usr/local/lib/libtbbmalloc.so.2 is not a symbolic link\n",
            "\n"
          ]
        }
      ]
    },
    {
      "cell_type": "code",
      "source": [
        "ssimport speech_recognition as sr\n",
        "import pyttsx3\n",
        "from datetime import datetime, date\n",
        "\n",
        "def speak(message):\n",
        "    engine = pyttsx3.init()\n",
        "    engine.setProperty('rate', 150)\n",
        "    engine.setProperty('volume', 0.9)\n",
        "    engine.say(message)\n",
        "    engine.runAndWait()\n",
        "\n",
        "def get_bot_response(message):\n",
        "    message = message.lower()\n",
        "\n",
        "    if any(greeting in message for greeting in [\"hello\", \"hi\", \"hey\"]):\n",
        "        return \"Hello! How can I help you today?\"\n",
        "    elif \"good morning\" in message:\n",
        "        return \"Good morning too, hope your day is good\"\n",
        "    elif \"good afternoon\" in message:\n",
        "        return \"Good afternoon too, you must be happy\"\n",
        "    elif \"good night\" in message:\n",
        "        return \"Good night too, have a nice dream\"\n",
        "    elif \"eat\" in message:\n",
        "        return \"I don't eat, but you can eat some seafood or ice cream to make you feel happy\"\n",
        "    elif \"your name\" in message:\n",
        "        return \"I'm your virtual assistant!\"\n",
        "    elif \"weather\" in message:\n",
        "        return \"I'm not connected to the internet, but you can check your local weather app.\"\n",
        "    elif any(farewell in message for farewell in [\"bye\", \"goodbye\", \"see you\"]):\n",
        "        return \"Goodbye! Have a great day!\"\n",
        "    elif \"time\" in message:\n",
        "        return f\"The current time is: {datetime.now().strftime('%H:%M:%S')}\"\n",
        "    elif \"date\" in message:\n",
        "        return f\"Today's date is: {date.today().strftime('%B %d, %Y')}\"\n",
        "    elif \"joke\" in message:\n",
        "        return \"Why don’t skeletons fight each other? They don’t have the guts!\"\n",
        "    elif \"motivation\" in message or \"inspire\" in message:\n",
        "        return \"Believe in yourself! Every day is a chance to make a difference.\"\n",
        "    elif \"tips\" in message:\n",
        "        return \"Stay hydrated, take breaks, and always keep learning new things!\"\n",
        "    elif \"python\" in message:\n",
        "        return \"Python is a versatile programming language that's great for beginners and professionals alike!\"\n",
        "    elif \"chatbot\" in message:\n",
        "        return \"To build a chatbot, you'll need to learn programming. I recommend starting with Python and libraries like NLTK or TensorFlow.\"\n",
        "    elif \"movie\" in message:\n",
        "        return \"I don't watch movies, but I've heard 'The Matrix' is a good one for AI enthusiasts!\"\n",
        "    elif \"news\" in message:\n",
        "        return \"I'm not connected to the internet, but you can check online for the latest news updates.\"\n",
        "    elif \"help\" in message:\n",
        "        return \"I'm here to assist you. You can ask about the time, date, a joke, or even tips for productivity!\"\n",
        "    else:\n",
        "        return \"I'm sorry, I didn't understand that. Could you try rephrasing your question?\"\n",
        "\n",
        "def voice_input():\n",
        "    recognizer = sr.Recognizer()\n",
        "    with sr.Microphone() as source:\n",
        "        print(\"Listening...\")\n",
        "        try:\n",
        "            audio = recognizer.listen(source, timeout=5)\n",
        "            voice_message = recognizer.recognize_google(audio)\n",
        "            print(f\"You: {voice_message}\")\n",
        "            return voice_message\n",
        "        except sr.UnknownValueError:\n",
        "            print(\"Sorry, I couldn't understand that.\")\n",
        "        except sr.RequestError:\n",
        "            print(\"Sorry, there was an issue with the speech recognition service.\")\n",
        "        except Exception as e:\n",
        "            print(f\"Error: {e}\")\n",
        "    return \"\"\n",
        "\n",
        "def main():\n",
        "    print(\"Welcome to the Virtual Assistant! Type 'exit' to quit.\")\n",
        "    while True:\n",
        "        user_message = input(\"You: \")\n",
        "        if user_message.lower() == 'exit':\n",
        "            print(\"Goodbye!\")\n",
        "            break\n",
        "        elif user_message.lower() == 'voice':\n",
        "            user_message = voice_input()\n",
        "        if user_message:\n",
        "            response = get_bot_response(user_message)\n",
        "            print(f\"Bot: {response}\")\n",
        "            speak(response)\n",
        "\n",
        "if __name__ == \"__main__\":\n",
        "    main()\n"
      ],
      "metadata": {
        "colab": {
          "base_uri": "https://localhost:8080/"
        },
        "id": "1LbXkbWphWdG",
        "outputId": "079ae749-9ffb-4db3-9a41-44849c8a4a98"
      },
      "execution_count": null,
      "outputs": [
        {
          "output_type": "stream",
          "name": "stdout",
          "text": [
            "Welcome to the Virtual Assistant! Type 'exit' to quit.\n",
            "You: hi\n",
            "Bot: Hello! How can I help you today?\n",
            "You: movie\n",
            "Bot: I don't watch movies, but I've heard 'The Matrix' is a good one for AI enthusiasts!\n",
            "You: eat\n",
            "Bot: I don't eat, but you can eat some seafood or ice cream to make you feel happy\n",
            "You: motivation\n",
            "Bot: Believe in yourself! Every day is a chance to make a difference.\n",
            "You: bye\n",
            "Bot: Goodbye! Have a great day!\n",
            "You: exit\n",
            "Goodbye!\n"
          ]
        }
      ]
    }
  ],
  "metadata": {
    "colab": {
      "provenance": [],
      "include_colab_link": true
    },
    "kernelspec": {
      "display_name": "Python 3",
      "name": "python3"
    },
    "language_info": {
      "name": "python"
    }
  },
  "nbformat": 4,
  "nbformat_minor": 0
}